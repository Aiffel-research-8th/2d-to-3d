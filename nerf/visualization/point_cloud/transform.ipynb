{
 "cells": [
  {
   "cell_type": "code",
   "execution_count": 2,
   "metadata": {},
   "outputs": [],
   "source": [
    "import numpy as np\n",
    "import open3d as o3d"
   ]
  },
  {
   "cell_type": "markdown",
   "metadata": {},
   "source": [
    "### 스케일링"
   ]
  },
  {
   "cell_type": "code",
   "execution_count": 4,
   "metadata": {},
   "outputs": [],
   "source": [
    "def scale_point_cloud_with_color(pcd, scale_factor):\n",
    "    \"\"\"\n",
    "    Point cloud를 주어진 스케일 팩터만큼 확대 또는 축소하고 색상을 유지합니다.\n",
    "    \n",
    "    :param pcd: Open3D PointCloud 객체\n",
    "    :param scale_factor: 스케일링 팩터 (1보다 크면 확대, 작으면 축소)\n",
    "    :return: 스케일링된 Open3D PointCloud 객체\n",
    "    \"\"\"\n",
    "    # 포인트 클라우드의 점들과 색상을 NumPy 배열로 가져옵니다\n",
    "    points = np.asarray(pcd.points)\n",
    "    colors = np.asarray(pcd.colors)\n",
    "    \n",
    "    # 각 점의 좌표에 스케일 팩터를 곱합니다\n",
    "    scaled_points = points * scale_factor\n",
    "    \n",
    "    # 새로운 Open3D PointCloud 객체를 생성합니다\n",
    "    scaled_pcd = o3d.geometry.PointCloud()\n",
    "    \n",
    "    # 스케일링된 점들과 원래의 색상을 새 PointCloud 객체에 설정합니다\n",
    "    scaled_pcd.points = o3d.utility.Vector3dVector(scaled_points)\n",
    "    scaled_pcd.colors = o3d.utility.Vector3dVector(colors)\n",
    "    \n",
    "    return scaled_pcd\n",
    "\n",
    "pcd = o3d.io.read_point_cloud(\"./data/shoe.ply\")\n",
    "scaled_pcd = scale_point_cloud_with_color(pcd, 1.5)  # 1.5배 확대\n",
    "o3d.visualization.draw([scaled_pcd])"
   ]
  },
  {
   "cell_type": "markdown",
   "metadata": {},
   "source": [
    "### 샘플링"
   ]
  },
  {
   "cell_type": "code",
   "execution_count": 9,
   "metadata": {},
   "outputs": [],
   "source": [
    "def random_sampling_with_color(pcd, num_samples):\n",
    "    \"\"\"\n",
    "    Point cloud에서 무작위로 지정된 개수의 점들을 샘플링하고 색상을 유지합니다.\n",
    "    \n",
    "    :param pcd: Open3D PointCloud 객체\n",
    "    :param num_samples: 샘플링할 점의 개수\n",
    "    :return: 샘플링된 Open3D PointCloud 객체\n",
    "    \"\"\"\n",
    "    # 포인트 클라우드의 점들과 색상을 NumPy 배열로 가져옵니다\n",
    "    points = np.asarray(pcd.points)\n",
    "    colors = np.asarray(pcd.colors)\n",
    "    \n",
    "    # 전체 점의 개수를 구합니다\n",
    "    num_points = points.shape[0]\n",
    "    \n",
    "    # 무작위로 인덱스를 선택합니다\n",
    "    sampled_indices = np.random.choice(num_points, num_samples, replace=False)\n",
    "    \n",
    "    # 선택된 인덱스에 해당하는 점들과 색상만 추출합니다\n",
    "    sampled_points = points[sampled_indices]\n",
    "    sampled_colors = colors[sampled_indices]\n",
    "    \n",
    "    # 새로운 Open3D PointCloud 객체를 생성합니다\n",
    "    sampled_pcd = o3d.geometry.PointCloud()\n",
    "    \n",
    "    # 샘플링된 점들과 색상을 새 PointCloud 객체에 설정합니다\n",
    "    sampled_pcd.points = o3d.utility.Vector3dVector(sampled_points)\n",
    "    sampled_pcd.colors = o3d.utility.Vector3dVector(sampled_colors)\n",
    "    \n",
    "    return sampled_pcd\n",
    "\n",
    "pcd = o3d.io.read_point_cloud(\"./data/shoe.ply\")\n",
    "sampled_pcd = random_sampling_with_color(pcd, 1000)  # 1000개의 점을 무작위로 샘플링\n",
    "o3d.visualization.draw([sampled_pcd])"
   ]
  },
  {
   "cell_type": "markdown",
   "metadata": {},
   "source": [
    "### 변형"
   ]
  },
  {
   "cell_type": "code",
   "execution_count": 8,
   "metadata": {},
   "outputs": [],
   "source": [
    "def sine_wave_deformation_with_color(pcd, amplitude, frequency):\n",
    "    \"\"\"\n",
    "    Point cloud에 사인파 변형을 적용하고 색상을 유지합니다.\n",
    "    \n",
    "    :param pcd: Open3D PointCloud 객체\n",
    "    :param amplitude: 사인파의 진폭\n",
    "    :param frequency: 사인파의 주파수\n",
    "    :return: 변형된 Open3D PointCloud 객체\n",
    "    \"\"\"\n",
    "    # 포인트 클라우드의 점들과 색상을 NumPy 배열로 가져옵니다\n",
    "    points = np.asarray(pcd.points)\n",
    "    colors = np.asarray(pcd.colors)\n",
    "    \n",
    "    # x 좌표를 기준으로 y 좌표에 사인파 변형을 적용합니다\n",
    "    points[:, 1] += amplitude * np.sin(frequency * points[:, 0])\n",
    "    \n",
    "    # 새로운 Open3D PointCloud 객체를 생성합니다\n",
    "    deformed_pcd = o3d.geometry.PointCloud()\n",
    "    \n",
    "    # 변형된 점들과 원래의 색상을 새 PointCloud 객체에 설정합니다\n",
    "    deformed_pcd.points = o3d.utility.Vector3dVector(points)\n",
    "    deformed_pcd.colors = o3d.utility.Vector3dVector(colors)\n",
    "    \n",
    "    return deformed_pcd\n",
    "\n",
    "pcd = o3d.io.read_point_cloud(\"./data/shoe.ply\")\n",
    "deformed_pcd = sine_wave_deformation_with_color(pcd, amplitude=0.1, frequency=5)\n",
    "o3d.visualization.draw([deformed_pcd])"
   ]
  },
  {
   "cell_type": "markdown",
   "metadata": {},
   "source": [
    "### 세그멘테이션"
   ]
  },
  {
   "cell_type": "code",
   "execution_count": 4,
   "metadata": {},
   "outputs": [],
   "source": [
    "def plane_segmentation_with_color(pcd, distance_threshold, ransac_n, num_iterations):\n",
    "    \"\"\"\n",
    "    RANSAC 알고리즘을 사용하여 point cloud에서 평면을 분리하고 색상을 유지합니다.\n",
    "    \n",
    "    :param pcd: Open3D PointCloud 객체\n",
    "    :param distance_threshold: 점과 평면 사이의 최대 거리\n",
    "    :param ransac_n: RANSAC에 사용할 점의 개수\n",
    "    :param num_iterations: RANSAC 반복 횟수\n",
    "    :return: (평면 PointCloud, 나머지 PointCloud)\n",
    "    \"\"\"\n",
    "    # RANSAC을 사용하여 평면 세그멘테이션을 수행합니다\n",
    "    plane_model, inliers = pcd.segment_plane(distance_threshold=distance_threshold,\n",
    "                                             ransac_n=ransac_n,\n",
    "                                             num_iterations=num_iterations)\n",
    "    \n",
    "    # 평면과 나머지 부분을 분리합니다 (색상 정보가 자동으로 유지됩니다)\n",
    "    plane_cloud = pcd.select_by_index(inliers)\n",
    "    rest_cloud = pcd.select_by_index(inliers, invert=True)\n",
    "    \n",
    "    return plane_cloud, rest_cloud\n",
    "\n",
    "# 사용 예:\n",
    "pcd = o3d.io.read_point_cloud(\"./data/shoe.ply\")\n",
    "plane_cloud, rest_cloud = plane_segmentation_with_color(pcd, distance_threshold=0.01, ransac_n=3, num_iterations=1000)\n",
    "o3d.visualization.draw([rest_cloud])"
   ]
  }
 ],
 "metadata": {
  "kernelspec": {
   "display_name": "aiffel-research",
   "language": "python",
   "name": "python3"
  },
  "language_info": {
   "codemirror_mode": {
    "name": "ipython",
    "version": 3
   },
   "file_extension": ".py",
   "mimetype": "text/x-python",
   "name": "python",
   "nbconvert_exporter": "python",
   "pygments_lexer": "ipython3",
   "version": "3.9.19"
  }
 },
 "nbformat": 4,
 "nbformat_minor": 2
}
