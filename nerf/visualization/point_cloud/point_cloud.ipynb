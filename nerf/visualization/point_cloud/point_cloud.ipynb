{
 "cells": [
  {
   "cell_type": "markdown",
   "metadata": {},
   "source": [
    "### file size 확인"
   ]
  },
  {
   "cell_type": "code",
   "execution_count": 1,
   "metadata": {},
   "outputs": [],
   "source": [
    "import open3d as o3d"
   ]
  },
  {
   "cell_type": "code",
   "execution_count": 13,
   "metadata": {},
   "outputs": [],
   "source": [
    "def count_points(ply_file_path):\n",
    "    pcd = o3d.io.read_point_cloud(ply_file_path)\n",
    "    filename = ply_file_path.split(\"/\")[-1].split(\".\")[0]\n",
    "    print(f\"{filename} 포인트 수: {len(pcd.points)}\")"
   ]
  },
  {
   "cell_type": "code",
   "execution_count": 15,
   "metadata": {},
   "outputs": [],
   "source": [
    "import os \n",
    "\n",
    "def check_ply_file_size(file_path):\n",
    "    # 파일이 존재하는지 확인\n",
    "    if not os.path.exists(file_path):\n",
    "        return \"파일이 존재하지 않습니다.\"\n",
    "    \n",
    "    # 파일 크기 확인 (바이트 단위)\n",
    "    file_size_bytes = os.path.getsize(file_path)\n",
    "    \n",
    "    filename = file_path.split(\"/\")[-1]\n",
    "    \n",
    "    # 바이트를 적절한 단위로 변환\n",
    "    if file_size_bytes < 1024:  # 1KB 미만\n",
    "        result = f\"{filename} {file_size_bytes} Byte\"\n",
    "    elif file_size_bytes < 1024 * 1024:  # 1MB 미만\n",
    "        result = f\"{filename} {file_size_bytes / 1024:.2f} KB\"\n",
    "    elif file_size_bytes < 1024 * 1024 * 1024:  # 1GB 미만\n",
    "        result = f\"{filename} {file_size_bytes / (1024 * 1024):.2f} MB\"\n",
    "    else:  # 1GB 이상\n",
    "        result = f\"{filename} {file_size_bytes / (1024 * 1024 * 1024):.2f} GB\"\n",
    "    \n",
    "    count_points(file_path)\n",
    "    print(result)\n",
    "    # return result"
   ]
  },
  {
   "cell_type": "code",
   "execution_count": 10,
   "metadata": {},
   "outputs": [
    {
     "name": "stdout",
     "output_type": "stream",
     "text": [
      "gate 포인트 수: 14849508\n",
      "shoe 포인트 수: 7983083\n"
     ]
    }
   ],
   "source": [
    "count_points(\"./data/gate.ply\")\n",
    "count_points(\"./data/shoe.ply\")"
   ]
  },
  {
   "cell_type": "markdown",
   "metadata": {},
   "source": [
    "### read & visualization point cloud"
   ]
  },
  {
   "cell_type": "code",
   "execution_count": 8,
   "metadata": {},
   "outputs": [
    {
     "name": "stdout",
     "output_type": "stream",
     "text": [
      "포인트 수: 776198\n",
      "포인트 클라우드 특성:\n",
      "PointCloud with 776198 points.\n"
     ]
    }
   ],
   "source": [
    "def visualize_ply(ply_file_path):\n",
    "    # PCD 파일 읽기\n",
    "    pcd = o3d.io.read_point_cloud(ply_file_path)\n",
    "    # 포인트 클라우드 정보 출력\n",
    "    print(f\"포인트 수: {len(pcd.points)}\")\n",
    "    print(f\"포인트 클라우드 특성:\")\n",
    "    print(pcd)\n",
    "    \n",
    "    # 포인트 클라우드에 색상이 없는 경우 임의의 색상 지정\n",
    "    if not pcd.has_colors():\n",
    "        pcd.paint_uniform_color([0.5, 0.5, 0.5])  # 회색으로 지정\n",
    "    \n",
    "    # 시각화\n",
    "    o3d.visualization.draw([pcd])\n",
    "\n",
    "# 사용 예시\n",
    "ply_file_path = \"./data/gate_voxelized_0.05.ply\"\n",
    "visualize_ply(ply_file_path)"
   ]
  },
  {
   "cell_type": "markdown",
   "metadata": {},
   "source": [
    "### voxelize"
   ]
  },
  {
   "cell_type": "code",
   "execution_count": 10,
   "metadata": {},
   "outputs": [
    {
     "name": "stdout",
     "output_type": "stream",
     "text": [
      "PLY 파일 읽는 중: ./data/gate.ply\n",
      "원본 포인트 수: 14849508\n",
      "Voxel 크기: 1.0\n",
      "Voxel화된 포인트 수: 1703\n",
      "결과 저장 중: ./data/gate_voxelized_1.0.ply\n",
      "Voxel화 완료\n"
     ]
    }
   ],
   "source": [
    "import open3d as o3d\n",
    "import numpy as np\n",
    "\n",
    "def voxelize_ply(input_ply_path, output_ply_path, voxel_size=0.05, \n",
    "                 min_bound=None, max_bound=None, \n",
    "                 linear_interpolate=False, \n",
    "                 crop=True):\n",
    "    \"\"\"\n",
    "    PLY 파일을 읽어 voxel화하고 결과를 PLY 파일로 저장합니다.\n",
    "\n",
    "    매개변수:\n",
    "    - input_ply_path: 입력 PLY 파일 경로\n",
    "    - output_ply_path: 출력 PLY 파일 경로\n",
    "    - voxel_size: voxel의 크기 (기본값: 0.05)\n",
    "    - min_bound: voxel 그리드의 최소 경계 (기본값: None, 자동 계산)\n",
    "    - max_bound: voxel 그리드의 최대 경계 (기본값: None, 자동 계산)\n",
    "    - linear_interpolate: 선형 보간 사용 여부 (기본값: False)\n",
    "    - crop: 원본 포인트 클라우드 범위로 voxel 그리드를 자르기 (기본값: True)\n",
    "    \"\"\"\n",
    "    \n",
    "    # PLY 파일 읽기\n",
    "    print(f\"PLY 파일 읽는 중: {input_ply_path}\")\n",
    "    pcd = o3d.io.read_point_cloud(input_ply_path)\n",
    "    \n",
    "    # 원본 포인트 클라우드 정보 출력\n",
    "    print(f\"원본 포인트 수: {len(pcd.points)}\")\n",
    "    \n",
    "    # Voxel 그리드 생성\n",
    "    print(f\"Voxel 크기: {voxel_size}\")\n",
    "    voxel_grid = o3d.geometry.VoxelGrid.create_from_point_cloud(pcd, voxel_size)\n",
    "    \n",
    "    # Voxel 그리드를 포인트 클라우드로 변환\n",
    "    voxel_pcd = o3d.geometry.PointCloud()\n",
    "    voxel_points = []\n",
    "    voxel_colors = []\n",
    "    \n",
    "    # Voxel 순회\n",
    "    for voxel in voxel_grid.get_voxels():\n",
    "        voxel_points.append(voxel.grid_index.astype(float) * voxel_size + voxel_grid.origin)\n",
    "        voxel_colors.append(voxel.color)\n",
    "    \n",
    "    voxel_pcd.points = o3d.utility.Vector3dVector(np.array(voxel_points))\n",
    "    voxel_pcd.colors = o3d.utility.Vector3dVector(np.array(voxel_colors))\n",
    "    \n",
    "    # Voxel화된 포인트 클라우드 정보 출력\n",
    "    print(f\"Voxel화된 포인트 수: {len(voxel_pcd.points)}\")\n",
    "    \n",
    "    # 결과 저장\n",
    "    print(f\"결과 저장 중: {output_ply_path}\")\n",
    "    o3d.io.write_point_cloud(output_ply_path, voxel_pcd)\n",
    "    \n",
    "    print(\"Voxel화 완료\")\n",
    "    \n",
    "    return voxel_pcd\n",
    "\n",
    "# 사용 예시\n",
    "voxel_size = 1.0\n",
    "object_name = \"gate\"\n",
    "input_ply_path = f\"./data/{object_name}.ply\"\n",
    "output_ply_path = f\"./data/{object_name}_voxelized_{voxel_size}.ply\"\n",
    "\n",
    "# Voxel화 실행\n",
    "voxelized_pcd = voxelize_ply(input_ply_path, output_ply_path, voxel_size=voxel_size)\n",
    "\n",
    "# 결과 시각화 (선택사항)\n",
    "o3d.visualization.draw([voxelized_pcd])"
   ]
  },
  {
   "cell_type": "markdown",
   "metadata": {},
   "source": [
    "### voxel block 시각화"
   ]
  },
  {
   "cell_type": "code",
   "execution_count": 11,
   "metadata": {},
   "outputs": [
    {
     "name": "stdout",
     "output_type": "stream",
     "text": [
      "포인트(복셀) 수: 1703\n",
      "생성된 블록 수: 1703\n"
     ]
    }
   ],
   "source": [
    "import open3d as o3d\n",
    "import numpy as np\n",
    "\n",
    "def visualize_voxelized_ply_as_blocks(input_ply_path, block_size=1.0):\n",
    "    \"\"\"\n",
    "    이미 복셀화된 PLY 파일을 읽어 블록 형태로 시각화합니다.\n",
    "\n",
    "    매개변수:\n",
    "    - input_ply_path: 입력 복셀화된 PLY 파일 경로\n",
    "    - block_size: 각 블록의 크기 (기본값: 1.0)\n",
    "    \"\"\"\n",
    "    # PLY 파일 읽기\n",
    "    pcd = o3d.io.read_point_cloud(input_ply_path)\n",
    "    print(f\"포인트(복셀) 수: {len(pcd.points)}\")\n",
    "\n",
    "    # 포인트를 블록으로 변환\n",
    "    blocks = []\n",
    "    \n",
    "    for point, color in zip(pcd.points, pcd.colors):\n",
    "        # 큐브 생성\n",
    "        cube = o3d.geometry.TriangleMesh.create_box(width=block_size, \n",
    "                                                    height=block_size, \n",
    "                                                    depth=block_size)\n",
    "        cube.translate(point - np.array([block_size/2, block_size/2, block_size/2]))\n",
    "        \n",
    "        # 큐브 색상 설정\n",
    "        cube.paint_uniform_color(color)\n",
    "        \n",
    "        blocks.append(cube)\n",
    "    \n",
    "    # 모든 블록 합치기\n",
    "    combined_blocks = blocks[0]\n",
    "    for block in blocks[1:]:\n",
    "        combined_blocks += block\n",
    "    \n",
    "    print(f\"생성된 블록 수: {len(blocks)}\")\n",
    "    \n",
    "    # 시각화\n",
    "    o3d.visualization.draw([combined_blocks])\n",
    "\n",
    "    return combined_blocks\n",
    "\n",
    "# 사용 예시\n",
    "object_name = \"gate\"\n",
    "voxel_size = 1.0\n",
    "input_ply_path = f\"./data/{object_name}_voxelized_{voxel_size}.ply\"\n",
    "block_size = voxel_size  # 블록 크기 조정\n",
    "\n",
    "voxelized_blocks = visualize_voxelized_ply_as_blocks(input_ply_path, block_size)"
   ]
  },
  {
   "cell_type": "code",
   "execution_count": 10,
   "metadata": {},
   "outputs": [
    {
     "name": "stdout",
     "output_type": "stream",
     "text": [
      "원본 size\n",
      "gate 포인트 수: 14849508\n",
      "gate.ply 551.54 MB\n",
      "shoe 포인트 수: 7983083\n",
      "shoe.ply 205.56 MB\n"
     ]
    }
   ],
   "source": [
    "print(\"원본 size\")\n",
    "check_ply_file_size(\"./data/gate.ply\")\n",
    "check_ply_file_size(\"./data/shoe.ply\")\n"
   ]
  },
  {
   "cell_type": "code",
   "execution_count": 17,
   "metadata": {},
   "outputs": [
    {
     "name": "stdout",
     "output_type": "stream",
     "text": [
      "voxel size 1.0\n",
      "gate_voxelized_1 포인트 수: 1703\n",
      "gate_voxelized_1.0.ply 45.11 KB\n"
     ]
    },
    {
     "data": {
      "text/plain": [
       "'파일이 존재하지 않습니다.'"
      ]
     },
     "execution_count": 17,
     "metadata": {},
     "output_type": "execute_result"
    }
   ],
   "source": [
    "voxel_size = 1.0\n",
    "print(f\"voxel size {voxel_size}\")\n",
    "check_ply_file_size(f\"./data/gate_voxelized_{voxel_size}.ply\")\n",
    "check_ply_file_size(f\"./data/shoe_voxelized_{voxel_size}.ply\")"
   ]
  },
  {
   "cell_type": "code",
   "execution_count": 19,
   "metadata": {},
   "outputs": [
    {
     "name": "stdout",
     "output_type": "stream",
     "text": [
      "voxel size 0.01\n",
      "gate_voxelized_0 포인트 수: 10645535\n",
      "gate_voxelized_0.01.ply 274.11 MB\n",
      "shoe_voxelized_0 포인트 수: 46930\n",
      "shoe_voxelized_0.01.ply 1.21 MB\n"
     ]
    }
   ],
   "source": [
    "voxel_size = 0.01\n",
    "print(f\"voxel size {voxel_size}\")\n",
    "check_ply_file_size(f\"./data/gate_voxelized_{voxel_size}.ply\")\n",
    "check_ply_file_size(f\"./data/shoe_voxelized_{voxel_size}.ply\")"
   ]
  },
  {
   "cell_type": "code",
   "execution_count": 20,
   "metadata": {},
   "outputs": [
    {
     "name": "stdout",
     "output_type": "stream",
     "text": [
      "voxel size 0.05\n",
      "gate_voxelized_0 포인트 수: 776198\n",
      "gate_voxelized_0.05.ply 19.99 MB\n",
      "shoe_voxelized_0 포인트 수: 1602\n",
      "shoe_voxelized_0.05.ply 42.44 KB\n"
     ]
    }
   ],
   "source": [
    "voxel_size = 0.05\n",
    "print(f\"voxel size {voxel_size}\")\n",
    "check_ply_file_size(f\"./data/gate_voxelized_{voxel_size}.ply\")\n",
    "check_ply_file_size(f\"./data/shoe_voxelized_{voxel_size}.ply\")"
   ]
  },
  {
   "cell_type": "code",
   "execution_count": 21,
   "metadata": {},
   "outputs": [
    {
     "name": "stdout",
     "output_type": "stream",
     "text": [
      "voxel size 0.1\n",
      "gate_voxelized_0 포인트 수: 194795\n",
      "gate_voxelized_0.1.ply 5.02 MB\n",
      "shoe_voxelized_0 포인트 수: 364\n",
      "shoe_voxelized_0.1.ply 9.80 KB\n"
     ]
    }
   ],
   "source": [
    "voxel_size = 0.1\n",
    "print(f\"voxel size {voxel_size}\")\n",
    "check_ply_file_size(f\"./data/gate_voxelized_{voxel_size}.ply\")\n",
    "check_ply_file_size(f\"./data/shoe_voxelized_{voxel_size}.ply\")"
   ]
  },
  {
   "cell_type": "markdown",
   "metadata": {},
   "source": []
  },
  {
   "cell_type": "markdown",
   "metadata": {},
   "source": [
    "### 포인트 클라우드 정합"
   ]
  },
  {
   "cell_type": "code",
   "execution_count": 16,
   "metadata": {},
   "outputs": [],
   "source": [
    "import open3d as o3d\n",
    "import numpy as np\n",
    "\n",
    "def scale_point_cloud(pcd, scale_factor):\n",
    "    \"\"\"\n",
    "    포인트 클라우드의 크기를 조정합니다.\n",
    "    \"\"\"\n",
    "    points = np.asarray(pcd.points)\n",
    "    center = np.mean(points, axis=0)\n",
    "    points = (points - center) * scale_factor + center\n",
    "    scaled_pcd = o3d.geometry.PointCloud()\n",
    "    scaled_pcd.points = o3d.utility.Vector3dVector(points)\n",
    "    if pcd.has_colors():\n",
    "        scaled_pcd.colors = pcd.colors\n",
    "    if pcd.has_normals():\n",
    "        scaled_pcd.normals = pcd.normals\n",
    "    return scaled_pcd\n",
    "\n",
    "def align_centers(source, target):\n",
    "    \"\"\"\n",
    "    두 포인트 클라우드의 중심을 맞춥니다.\n",
    "    \"\"\"\n",
    "    source_center = source.get_center()\n",
    "    target_center = target.get_center()\n",
    "    \n",
    "    translation = target_center - source_center\n",
    "    \n",
    "    # source를 target의 중심으로 이동\n",
    "    source.translate(translation)\n",
    "    \n",
    "    return source, target\n",
    "\n",
    "def register_point_clouds(source_path, target_path, output_path, scale_factor=5.0):\n",
    "    # 포인트 클라우드 로드\n",
    "    source = o3d.io.read_point_cloud(source_path)\n",
    "    target = o3d.io.read_point_cloud(target_path)\n",
    "\n",
    "    # 신발(source) 크기 조정\n",
    "    source = scale_point_cloud(source, scale_factor)\n",
    "\n",
    "    # 중심 맞추기\n",
    "    source, target = align_centers(source, target)\n",
    "\n",
    "    # 초기 정합을 위한 전처리\n",
    "    source.estimate_normals(search_param=o3d.geometry.KDTreeSearchParamHybrid(radius=0.1 * scale_factor, max_nn=30))\n",
    "    target.estimate_normals(search_param=o3d.geometry.KDTreeSearchParamHybrid(radius=0.1, max_nn=30))\n",
    "\n",
    "    # 전역 정합 (Global Registration)\n",
    "    # FPFH 특징 계산\n",
    "    source_fpfh = o3d.pipelines.registration.compute_fpfh_feature(source, o3d.geometry.KDTreeSearchParamHybrid(radius=0.25 * scale_factor, max_nn=100))\n",
    "    target_fpfh = o3d.pipelines.registration.compute_fpfh_feature(target, o3d.geometry.KDTreeSearchParamHybrid(radius=0.25, max_nn=100))\n",
    "\n",
    "    # RANSAC을 이용한 전역 정합\n",
    "    result_ransac = o3d.pipelines.registration.registration_ransac_based_on_feature_matching(\n",
    "        source, target, source_fpfh, target_fpfh, True,\n",
    "        0.05 * scale_factor,  # 최대 대응 거리\n",
    "        o3d.pipelines.registration.TransformationEstimationPointToPoint(False),\n",
    "        3, # RANSAC 모델 파라미터 수\n",
    "        [o3d.pipelines.registration.CorrespondenceCheckerBasedOnEdgeLength(0.9),\n",
    "         o3d.pipelines.registration.CorrespondenceCheckerBasedOnDistance(0.05 * scale_factor)],\n",
    "        o3d.pipelines.registration.RANSACConvergenceCriteria(1000000, 0.999))\n",
    "\n",
    "    # 정합 결과 적용\n",
    "    source.transform(result_ransac.transformation)\n",
    "\n",
    "    # ICP를 이용한 미세 정합\n",
    "    result_icp = o3d.pipelines.registration.registration_icp(\n",
    "        source, target, 0.05 * scale_factor, result_ransac.transformation,\n",
    "        o3d.pipelines.registration.TransformationEstimationPointToPoint())\n",
    "\n",
    "    # 최종 정합 결과 적용\n",
    "    source.transform(result_icp.transformation)\n",
    "\n",
    "    # 정합된 source를 원래 크기로 되돌리기\n",
    "    source = scale_point_cloud(source, 1/scale_factor)\n",
    "\n",
    "    # 정합된 포인트 클라우드 합치기\n",
    "    combined = source + target\n",
    "\n",
    "    # 결과 저장\n",
    "    o3d.io.write_point_cloud(output_path, combined)\n",
    "\n",
    "    return combined\n",
    "\n",
    "def visualize_point_cloud(pcd):\n",
    "    o3d.visualization.draw([pcd])\n",
    "\n",
    "# 사용 예시\n",
    "source_path = f\"./data/shoe_voxelized_0.01.ply\"\n",
    "target_path = f\"./data/gate_voxelized_0.05.ply\"\n",
    "scale_factor = 10.0\n",
    "output_path = f\"./data/combined_output_{scale_factor}.ply\"\n",
    "\n",
    "# 정합 수행 및 결과 저장\n",
    "combined_pcd = register_point_clouds(source_path, target_path, output_path, scale_factor=scale_factor)\n",
    "\n",
    "# 결과 시각화\n",
    "visualize_point_cloud(combined_pcd)"
   ]
  },
  {
   "cell_type": "markdown",
   "metadata": {},
   "source": [
    "### 스케일링"
   ]
  },
  {
   "cell_type": "code",
   "execution_count": null,
   "metadata": {},
   "outputs": [],
   "source": [
    "def scale_point_cloud(pcd, scale_factor):\n",
    "    \"\"\"\n",
    "    Point cloud를 주어진 스케일 팩터만큼 확대 또는 축소합니다.\n",
    "    \n",
    "    :param pcd: Open3D PointCloud 객체\n",
    "    :param scale_factor: 스케일링 팩터 (1보다 크면 확대, 작으면 축소)\n",
    "    :return: 스케일링된 Open3D PointCloud 객체\n",
    "    \"\"\"\n",
    "    # 포인트 클라우드의 점들을 NumPy 배열로 가져옵니다\n",
    "    points = np.asarray(pcd.points)\n",
    "    \n",
    "    # 각 점의 좌표에 스케일 팩터를 곱합니다\n",
    "    scaled_points = points * scale_factor\n",
    "    \n",
    "    # 새로운 Open3D PointCloud 객체를 생성합니다\n",
    "    scaled_pcd = o3d.geometry.PointCloud()\n",
    "    \n",
    "    # 스케일링된 점들을 새 PointCloud 객체에 설정합니다\n",
    "    scaled_pcd.points = o3d.utility.Vector3dVector(scaled_points)\n",
    "    \n",
    "    return scaled_pcd\n",
    "\n",
    "# 사용 예:\n",
    "pcd = o3d.io.read_point_cloud(\"./data/shoe.ply\")\n",
    "scaled_pcd = scale_point_cloud(pcd, 1.5)  # 1.5배 확대"
   ]
  }
 ],
 "metadata": {
  "kernelspec": {
   "display_name": "aiffel-research",
   "language": "python",
   "name": "python3"
  },
  "language_info": {
   "codemirror_mode": {
    "name": "ipython",
    "version": 3
   },
   "file_extension": ".py",
   "mimetype": "text/x-python",
   "name": "python",
   "nbconvert_exporter": "python",
   "pygments_lexer": "ipython3",
   "version": "3.9.19"
  }
 },
 "nbformat": 4,
 "nbformat_minor": 2
}
